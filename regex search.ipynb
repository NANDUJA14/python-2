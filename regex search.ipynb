{
 "cells": [
  {
   "cell_type": "code",
   "execution_count": 1,
   "id": "c353c30a-338a-4cd8-a92c-046a3be5b910",
   "metadata": {},
   "outputs": [
    {
     "name": "stdin",
     "output_type": "stream",
     "text": [
      "Enter the path to the folder:  ZipDemo\n"
     ]
    },
    {
     "name": "stdout",
     "output_type": "stream",
     "text": [
      "❌ Error: Folder not found.\n"
     ]
    }
   ],
   "source": [
    "import os\n",
    "import re\n",
    "\n",
    "def search_txt_files():\n",
    "    folder_path = input(\"Enter the path to the folder: \").strip()\n",
    "    if not os.path.isdir(folder_path):\n",
    "        print(\"❌ Error: Folder not found.\")\n",
    "        return\n",
    "\n",
    "    user_regex = input(\"Enter the regular expression to search for: \")\n",
    "    try:\n",
    "        pattern = re.compile(user_regex)\n",
    "    except re.error:\n",
    "        print(\"❌ Error: Invalid regular expression.\")\n",
    "        return\n",
    "\n",
    "    print(\"\\n🔍 === Matching Lines ===\\n\")\n",
    "    found = False\n",
    "\n",
    "    for filename in os.listdir(folder_path):\n",
    "        if filename.endswith(\".txt\"):\n",
    "            filepath = os.path.join(folder_path, filename)\n",
    "            try:\n",
    "                with open(filepath, 'r', encoding='utf-8') as file:\n",
    "                    for lineno, line in enumerate(file, 1):\n",
    "                        if pattern.search(line):\n",
    "                            print(f\"{filename} [Line {lineno}]: {line.strip()}\")\n",
    "                            found = True\n",
    "            except Exception as e:\n",
    "                print(f\"⚠️ Error reading {filename}: {e}\")\n",
    "\n",
    "    if not found:\n",
    "        print(\"🚫 No matches found.\")\n",
    "\n",
    "# Run the function\n",
    "search_txt_files()"
   ]
  },
  {
   "cell_type": "code",
   "execution_count": null,
   "id": "dbc92601-d37e-468a-b0fe-a7320e5b3ea7",
   "metadata": {},
   "outputs": [],
   "source": []
  }
 ],
 "metadata": {
  "kernelspec": {
   "display_name": "Python 3 (ipykernel)",
   "language": "python",
   "name": "python3"
  },
  "language_info": {
   "codemirror_mode": {
    "name": "ipython",
    "version": 3
   },
   "file_extension": ".py",
   "mimetype": "text/x-python",
   "name": "python",
   "nbconvert_exporter": "python",
   "pygments_lexer": "ipython3",
   "version": "3.12.7"
  }
 },
 "nbformat": 4,
 "nbformat_minor": 5
}
