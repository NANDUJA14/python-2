{
 "cells": [
  {
   "cell_type": "code",
   "execution_count": 1,
   "id": "7b675d63-0e6a-4283-bd47-9a5adbf24918",
   "metadata": {},
   "outputs": [
    {
     "name": "stdin",
     "output_type": "stream",
     "text": [
      "Enter the path to the folder to scan:  ZipDemo\n"
     ]
    },
    {
     "name": "stdout",
     "output_type": "stream",
     "text": [
      "Error: Folder not found.\n"
     ]
    }
   ],
   "source": [
    "import os\n",
    "\n",
    "def find_large_files():\n",
    "    \n",
    "    folder = input(\"Enter the path to the folder to scan: \").strip()\n",
    "    if not os.path.isdir(folder):\n",
    "        print(\"Error: Folder not found.\")\n",
    "        return\n",
    "\n",
    "    \n",
    "    try:\n",
    "        size_limit_mb = float(input(\"Enter the size limit in MB (default 100): \") or 100)\n",
    "    except ValueError:\n",
    "        print(\"Invalid size input.\")\n",
    "        return\n",
    "\n",
    "    size_limit_bytes = size_limit_mb * 1024 * 1024\n",
    "    found = False\n",
    "\n",
    "    print(f\"\\nSearching for files larger than {size_limit_mb} MB...\\n\")\n",
    "\n",
    "    \n",
    "    for foldername, subfolders, filenames in os.walk(folder):\n",
    "        for filename in filenames:\n",
    "            filepath = os.path.join(foldername, filename)\n",
    "            try:\n",
    "                filesize = os.path.getsize(filepath)\n",
    "                if filesize > size_limit_bytes:\n",
    "                    print(f\"{os.path.abspath(filepath)} — {filesize / (1024 * 1024):.2f} MB\")\n",
    "                    found = True\n",
    "            except OSError:\n",
    "                print(f\"Could not access file: {filepath}\")\n",
    "\n",
    "    if not found:\n",
    "        print(\"No files found larger than the specified size.\")\n",
    "\n",
    "\n",
    "find_large_files()"
   ]
  },
  {
   "cell_type": "code",
   "execution_count": null,
   "id": "d385a112-0df7-4e88-a576-2b3f402fe47c",
   "metadata": {},
   "outputs": [],
   "source": []
  }
 ],
 "metadata": {
  "kernelspec": {
   "display_name": "Python 3 (ipykernel)",
   "language": "python",
   "name": "python3"
  },
  "language_info": {
   "codemirror_mode": {
    "name": "ipython",
    "version": 3
   },
   "file_extension": ".py",
   "mimetype": "text/x-python",
   "name": "python",
   "nbconvert_exporter": "python",
   "pygments_lexer": "ipython3",
   "version": "3.12.7"
  }
 },
 "nbformat": 4,
 "nbformat_minor": 5
}
