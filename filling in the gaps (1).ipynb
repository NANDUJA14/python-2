{
 "cells": [
  {
   "cell_type": "code",
   "execution_count": 4,
   "id": "66033d07-99df-47f8-b8e3-fea97b792fe2",
   "metadata": {},
   "outputs": [
    {
     "name": "stdout",
     "output_type": "stream",
     "text": [
      "Choose an option:\n",
      "1. Close numbering gaps\n",
      "2. Insert a numbering gap\n"
     ]
    },
    {
     "name": "stdin",
     "output_type": "stream",
     "text": [
      "Enter 1 or 2:  1\n",
      "Enter the folder path:  Zipdemo\n",
      "Enter the file prefix (e.g., spam):  spam\n",
      "Enter the file extension (e.g., .txt):  'txt\n"
     ]
    },
    {
     "name": "stdout",
     "output_type": "stream",
     "text": [
      "❌ Error: Folder not found.\n"
     ]
    }
   ],
   "source": [
    "# NAME:- MADHURYA MANJUNATH\n",
    "# USN 1AY24BT026\n",
    "\n",
    "import os\n",
    "import re\n",
    "\n",
    "def get_numbered_files(folder, prefix, extension):\n",
    "    pattern = re.compile(rf\"^{re.escape(prefix)}(\\d+){re.escape(extension)}$\")\n",
    "    numbered_files = []\n",
    "\n",
    "    for filename in os.listdir(folder):\n",
    "        match = pattern.match(filename)\n",
    "        if match:\n",
    "            number = int(match.group(1))\n",
    "            numbered_files.append((number, filename))\n",
    "    return sorted(numbered_files)\n",
    "\n",
    "\n",
    "def close_gaps(folder, prefix, extension):\n",
    "    numbered_files = get_numbered_files(folder, prefix, extension)\n",
    "    expected_number = 1\n",
    "\n",
    "    for actual_number, filename in numbered_files:\n",
    "        if actual_number != expected_number:\n",
    "            new_filename = f\"{prefix}{str(expected_number).zfill(3)}{extension}\"\n",
    "            src = os.path.join(folder, filename)\n",
    "            dst = os.path.join(folder, new_filename)\n",
    "            print(f\"Renaming: {filename} ➜ {new_filename}\")\n",
    "            os.rename(src, dst)\n",
    "        expected_number += 1\n",
    "\n",
    "    print(\"\\n✅ Gaps closed successfully.\")\n",
    "\n",
    "\n",
    "def insert_gap(folder, prefix, extension, insert_at):\n",
    "    numbered_files = get_numbered_files(folder, prefix, extension)\n",
    "    \n",
    "    for number, filename in sorted(numbered_files, reverse=True):\n",
    "        if number >= insert_at:\n",
    "            new_number = number + 1\n",
    "            new_filename = f\"{prefix}{str(new_number).zfill(3)}{extension}\"\n",
    "            src = os.path.join(folder, filename)\n",
    "            dst = os.path.join(folder, new_filename)\n",
    "            print(f\"Renaming: {filename} ➜ {new_filename}\")\n",
    "            os.rename(src, dst)\n",
    "\n",
    "    print(f\"\\n➕ Gap inserted at position {insert_at}.\")\n",
    "\n",
    "\n",
    "def main():\n",
    "    print(\"Choose an option:\")\n",
    "    print(\"1. Close numbering gaps\")\n",
    "    print(\"2. Insert a numbering gap\")\n",
    "    choice = input(\"Enter 1 or 2: \").strip()\n",
    "\n",
    "    folder = input(\"Enter the folder path: \").strip()\n",
    "    prefix = input(\"Enter the file prefix (e.g., spam): \").strip()\n",
    "    extension = input(\"Enter the file extension (e.g., .txt): \").strip()\n",
    "\n",
    "    if not os.path.isdir(folder):\n",
    "        print(\"❌ Error: Folder not found.\")\n",
    "        return\n",
    "\n",
    "    if choice == '1':\n",
    "        close_gaps(folder, prefix, extension)\n",
    "    elif choice == '2':\n",
    "        try:\n",
    "            insert_at = int(input(\"Enter the number where to insert the gap (e.g., 2): \"))\n",
    "            insert_gap(folder, prefix, extension, insert_at)\n",
    "        except ValueError:\n",
    "            print(\"❌ Invalid number for insert position.\")\n",
    "    else:\n",
    "        print(\"❌ Invalid choice.\")\n",
    "\n",
    "\n",
    "if __name__ == \"__main__\":\n",
    "    main()"
   ]
  },
  {
   "cell_type": "code",
   "execution_count": null,
   "id": "f52af67b-201e-4268-9e8b-bf0bc7e30144",
   "metadata": {},
   "outputs": [],
   "source": []
  }
 ],
 "metadata": {
  "kernelspec": {
   "display_name": "Python 3 (ipykernel)",
   "language": "python",
   "name": "python3"
  },
  "language_info": {
   "codemirror_mode": {
    "name": "ipython",
    "version": 3
   },
   "file_extension": ".py",
   "mimetype": "text/x-python",
   "name": "python",
   "nbconvert_exporter": "python",
   "pygments_lexer": "ipython3",
   "version": "3.12.7"
  }
 },
 "nbformat": 4,
 "nbformat_minor": 5
}
