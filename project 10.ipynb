{
 "cells": [
  {
   "cell_type": "code",
   "execution_count": 2,
   "id": "cb41040c-2072-41a2-bfb9-a7843141a8b7",
   "metadata": {},
   "outputs": [
    {
     "name": "stdout",
     "output_type": "stream",
     "text": [
      "Total Time: 01:10:30\n",
      "Average pace per mile for 13.1 miles: 00:05:22\n"
     ]
    }
   ],
   "source": [
    "class Time:\n",
    "    def __init__(self, hours=0, minutes=0, seconds=0):\n",
    "        self.hours = hours\n",
    "        self.minutes = minutes\n",
    "        self.seconds = seconds\n",
    "\n",
    "    def to_seconds(self):\n",
    "        return self.hours * 3600 + self.minutes * 60 + self.seconds\n",
    "\n",
    "    @staticmethod\n",
    "    def from_seconds(total_seconds):\n",
    "        hours = total_seconds // 3600\n",
    "        total_seconds %= 3600\n",
    "        minutes = total_seconds // 60\n",
    "        seconds = total_seconds % 60\n",
    "        return Time(int(hours), int(minutes), int(seconds))\n",
    "\n",
    "    def __str__(self):\n",
    "        return f\"{self.hours:02d}:{self.minutes:02d}:{self.seconds:02d}\"\n",
    "\n",
    "def mul_time(time, factor):\n",
    "    total_seconds = time.to_seconds() * factor\n",
    "    return Time.from_seconds(total_seconds)\n",
    "\n",
    "def average_pace(finishing_time, distance):\n",
    "    return mul_time(finishing_time, 1 / distance)\n",
    "\n",
    "# Example usage\n",
    "race_time = Time(1, 10, 30)  # 1 hour, 10 minutes, 30 seconds\n",
    "distance = 13.1  # miles\n",
    "\n",
    "pace = average_pace(race_time, distance)\n",
    "\n",
    "print(\"Total Time:\", race_time)\n",
    "print(f\"Average pace per mile for {distance} miles: {pace}\")"
   ]
  },
  {
   "cell_type": "code",
   "execution_count": null,
   "id": "9b802f87-3b42-46f8-bc4d-be1f04a2684f",
   "metadata": {},
   "outputs": [],
   "source": []
  }
 ],
 "metadata": {
  "kernelspec": {
   "display_name": "Python 3 (ipykernel)",
   "language": "python",
   "name": "python3"
  },
  "language_info": {
   "codemirror_mode": {
    "name": "ipython",
    "version": 3
   },
   "file_extension": ".py",
   "mimetype": "text/x-python",
   "name": "python",
   "nbconvert_exporter": "python",
   "pygments_lexer": "ipython3",
   "version": "3.12.7"
  }
 },
 "nbformat": 4,
 "nbformat_minor": 5
}
