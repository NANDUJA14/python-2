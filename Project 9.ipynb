{
 "cells": [
  {
   "cell_type": "code",
   "execution_count": 4,
   "id": "14730c2d-615c-43e9-b839-0178ebd3f00d",
   "metadata": {},
   "outputs": [
    {
     "name": "stdout",
     "output_type": "stream",
     "text": [
      "\n",
      "📆 Date-Time Tool Menu\n",
      "1. Get current day of the week\n",
      "2. Get age and time until next birthday\n",
      "3. Find the Double Day\n",
      "4. Find the n-times older day\n",
      "5. Exit\n"
     ]
    },
    {
     "name": "stdin",
     "output_type": "stream",
     "text": [
      "Enter your choice (1-5):  2\n",
      "Enter your birthday (YYYY-MM-DD):  2001-06-14\n"
     ]
    },
    {
     "name": "stdout",
     "output_type": "stream",
     "text": [
      "\n",
      "🎉 You are 24 years old.\n",
      "⏳ Time until next birthday: 349 days, 3 hours, 50 minutes, 26 seconds.\n",
      "\n",
      "\n",
      "📆 Date-Time Tool Menu\n",
      "1. Get current day of the week\n",
      "2. Get age and time until next birthday\n",
      "3. Find the Double Day\n",
      "4. Find the n-times older day\n",
      "5. Exit\n"
     ]
    },
    {
     "name": "stdin",
     "output_type": "stream",
     "text": [
      "Enter your choice (1-5):  5\n"
     ]
    },
    {
     "name": "stdout",
     "output_type": "stream",
     "text": [
      "Goodbye!\n"
     ]
    }
   ],
   "source": [
    "import datetime\n",
    "from datetime import datetime, timedelta\n",
    "\n",
    "def current_day_of_week():\n",
    "    today = datetime.today()\n",
    "    print(f\"Today is {today.strftime('%A')} ({today.date()})\")\n",
    "\n",
    "def birthday_info():\n",
    "    bday_str = input(\"Enter your birthday (YYYY-MM-DD): \")\n",
    "    try:\n",
    "        bday = datetime.strptime(bday_str, \"%Y-%m-%d\").date()\n",
    "    except ValueError:\n",
    "        print(\"Invalid format. Please use YYYY-MM-DD.\")\n",
    "        return\n",
    "\n",
    "    today = datetime.today().date()\n",
    "    age = today.year - bday.year\n",
    "    if (today.month, today.day) < (bday.month, bday.day):\n",
    "        age -= 1\n",
    "\n",
    "    next_bday = bday.replace(year=today.year)\n",
    "    if next_bday < today:\n",
    "        next_bday = next_bday.replace(year=today.year + 1)\n",
    "\n",
    "    time_until = datetime.combine(next_bday, datetime.min.time()) - datetime.now()\n",
    "\n",
    "    print(f\"\\n🎉 You are {age} years old.\")\n",
    "    print(f\"⏳ Time until next birthday: {time_until.days} days, \"\n",
    "          f\"{time_until.seconds // 3600} hours, \"\n",
    "          f\"{(time_until.seconds % 3600) // 60} minutes, \"\n",
    "          f\"{time_until.seconds % 60} seconds.\\n\")\n",
    "\n",
    "def double_day():\n",
    "    b1_str = input(\"Enter first birthdate (YYYY-MM-DD): \")\n",
    "    b2_str = input(\"Enter second birthdate (YYYY-MM-DD): \")\n",
    "    try:\n",
    "        b1 = datetime.strptime(b1_str, \"%Y-%m-%d\")\n",
    "        b2 = datetime.strptime(b2_str, \"%Y-%m-%d\")\n",
    "    except ValueError:\n",
    "        print(\"Invalid date format.\")\n",
    "        return\n",
    "\n",
    "    if b1 > b2:\n",
    "        older, younger = b2, b1\n",
    "    else:\n",
    "        older, younger = b1, b2\n",
    "\n",
    "    delta = younger - older\n",
    "    double_day = younger + delta\n",
    "    print(f\"\\n📅 Double Day: {double_day.date()}\\n\")\n",
    "\n",
    "def n_times_day():\n",
    "    b1_str = input(\"Enter first birthdate (YYYY-MM-DD): \")\n",
    "    b2_str = input(\"Enter second birthdate (YYYY-MM-DD): \")\n",
    "    try:\n",
    "        n = float(input(\"Enter the multiplier (n): \"))\n",
    "        b1 = datetime.strptime(b1_str, \"%Y-%m-%d\")\n",
    "        b2 = datetime.strptime(b2_str, \"%Y-%m-%d\")\n",
    "    except (ValueError, ZeroDivisionError):\n",
    "        print(\"Invalid input.\")\n",
    "        return\n",
    "\n",
    "    if b1 > b2:\n",
    "        older, younger = b2, b1\n",
    "        invert = True\n",
    "    else:\n",
    "        older, younger = b1, b2\n",
    "        invert = False\n",
    "\n",
    "    diff = younger - older\n",
    "    try:\n",
    "        time_until = diff / (n - 1)\n",
    "    except ZeroDivisionError:\n",
    "        print(\"n cannot be 1.\")\n",
    "        return\n",
    "\n",
    "    n_day = (older + time_until) if invert else (younger + time_until)\n",
    "    print(f\"\\n📅 On {n_day.date()}, one person is {n:.1f} times older than the other.\\n\")\n",
    "\n",
    "def main():\n",
    "    while True:\n",
    "        print(\"\\n📆 Date-Time Tool Menu\")\n",
    "        print(\"1. Get current day of the week\")\n",
    "        print(\"2. Get age and time until next birthday\")\n",
    "        print(\"3. Find the Double Day\")\n",
    "        print(\"4. Find the n-times older day\")\n",
    "        print(\"5. Exit\")\n",
    "\n",
    "        choice = input(\"Enter your choice (1-5): \").strip()\n",
    "        if choice == '1':\n",
    "            current_day_of_week()\n",
    "        elif choice == '2':\n",
    "            birthday_info()\n",
    "        elif choice == '3':\n",
    "            double_day()\n",
    "        elif choice == '4':\n",
    "            n_times_day()\n",
    "        elif choice == '5':\n",
    "            print(\"Goodbye!\")\n",
    "            break\n",
    "        else:\n",
    "            print(\"Invalid option. Please enter a number from 1 to 5.\")\n",
    "\n",
    "if __name__ == \"__main__\":\n",
    "    main()"
   ]
  },
  {
   "cell_type": "code",
   "execution_count": null,
   "id": "ecbbd8a3-b216-40e9-9495-850e9cc1b563",
   "metadata": {},
   "outputs": [],
   "source": []
  }
 ],
 "metadata": {
  "kernelspec": {
   "display_name": "Python 3 (ipykernel)",
   "language": "python",
   "name": "python3"
  },
  "language_info": {
   "codemirror_mode": {
    "name": "ipython",
    "version": 3
   },
   "file_extension": ".py",
   "mimetype": "text/x-python",
   "name": "python",
   "nbconvert_exporter": "python",
   "pygments_lexer": "ipython3",
   "version": "3.12.7"
  }
 },
 "nbformat": 4,
 "nbformat_minor": 5
}
