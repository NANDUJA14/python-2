{
 "cells": [
  {
   "cell_type": "code",
   "execution_count": 2,
   "id": "6c333444-6e9d-4eb3-a826-4e106e5146e0",
   "metadata": {},
   "outputs": [
    {
     "name": "stdin",
     "output_type": "stream",
     "text": [
      "Enter the name of the Mad Libs text file :  bacon\n"
     ]
    },
    {
     "name": "stdout",
     "output_type": "stream",
     "text": [
      "Error: File 'bacon' not found.\n"
     ]
    }
   ],
   "source": [
    "import re\n",
    "\n",
    "def mad_libs():\n",
    "    \n",
    "    filename = input(\"Enter the name of the Mad Libs text file : \")\n",
    "\n",
    "   \n",
    "    try:\n",
    "        with open(filename, 'r') as file:\n",
    "            content = file.read()\n",
    "    except FileNotFoundError:\n",
    "        print(f\"Error: File '{filename}' not found.\")\n",
    "        return\n",
    "\n",
    "    \n",
    "    pattern = r'\\b(ADJECTIVE|NOUN|ADVERB|VERB)\\b'\n",
    "\n",
    "    \n",
    "    def replace_placeholder(match):\n",
    "        word_type = match.group(0).lower()\n",
    "        article = 'an' if word_type[0] in 'aeiou' else 'a'\n",
    "        return input(f\"Enter {article} {word_type}: \")\n",
    "\n",
    "    \n",
    "    updated_content = re.sub(pattern, replace_placeholder, content)\n",
    "\n",
    "    \n",
    "    print(\"\\n=== Final Mad Libs Story ===\\n\")\n",
    "    print(updated_content)\n",
    "\n",
    "   \n",
    "\n",
    "\n",
    "mad_libs()"
   ]
  },
  {
   "cell_type": "code",
   "execution_count": null,
   "id": "4355f955-a0b6-4c65-b27c-5b4a114d7d0f",
   "metadata": {},
   "outputs": [],
   "source": []
  }
 ],
 "metadata": {
  "kernelspec": {
   "display_name": "Python 3 (ipykernel)",
   "language": "python",
   "name": "python3"
  },
  "language_info": {
   "codemirror_mode": {
    "name": "ipython",
    "version": 3
   },
   "file_extension": ".py",
   "mimetype": "text/x-python",
   "name": "python",
   "nbconvert_exporter": "python",
   "pygments_lexer": "ipython3",
   "version": "3.12.7"
  }
 },
 "nbformat": 4,
 "nbformat_minor": 5
}
