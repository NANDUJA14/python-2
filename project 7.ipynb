{
 "cells": [
  {
   "cell_type": "code",
   "execution_count": 3,
   "id": "c6ce62f6-6e36-448f-9a38-989097190639",
   "metadata": {},
   "outputs": [
    {
     "name": "stdout",
     "output_type": "stream",
     "text": [
      "Point in circle: True\n",
      "Rectangle entirely in circle: True\n",
      "Rectangle overlaps circle: True\n"
     ]
    }
   ],
   "source": [
    "import math\n",
    "\n",
    "class Point:\n",
    "    def __init__(self, x, y):\n",
    "        self.x = x\n",
    "        self.y = y\n",
    "\n",
    "class Circle:\n",
    "    def __init__(self, center, radius):\n",
    "        self.center = center\n",
    "        self.radius = radius\n",
    "\n",
    "class Rectangle:\n",
    "    def __init__(self, x, y, width, height):\n",
    "        self.x = x  \n",
    "        self.y = y  \n",
    "        self.width = width\n",
    "        self.height = height\n",
    "\n",
    "def point_in_circle(circle, point):\n",
    "    dx = point.x - circle.center.x\n",
    "    dy = point.y - circle.center.y\n",
    "    return math.hypot(dx, dy) <= circle.radius\n",
    "\n",
    "def rect_in_circle(circle, rect):\n",
    "    corners = [\n",
    "        Point(rect.x, rect.y),\n",
    "        Point(rect.x + rect.width, rect.y),\n",
    "        Point(rect.x, rect.y + rect.height),\n",
    "        Point(rect.x + rect.width, rect.y + rect.height)\n",
    "    ]\n",
    "    return all(point_in_circle(circle, corner) for corner in corners)\n",
    "\n",
    "def rect_circle_overlap(circle, rect):\n",
    "    corners = [\n",
    "        Point(rect.x, rect.y),\n",
    "        Point(rect.x + rect.width, rect.y),\n",
    "        Point(rect.x, rect.y + rect.height),\n",
    "        Point(rect.x + rect.width, rect.y + rect.height)\n",
    "    ]\n",
    "    return any(point_in_circle(circle, corner) for corner in corners)\n",
    "\n",
    "# Test cases\n",
    "c = Circle(Point(150, 100), 75)\n",
    "r = Rectangle(120, 80, 50, 40)\n",
    "p = Point(150, 100)\n",
    "\n",
    "print(\"Point in circle:\", point_in_circle(c, p))\n",
    "print(\"Rectangle entirely in circle:\", rect_in_circle(c, r))\n",
    "print(\"Rectangle overlaps circle:\", rect_circle_overlap(c, r))"
   ]
  },
  {
   "cell_type": "code",
   "execution_count": null,
   "id": "5919a41f-39e1-4a0f-96c9-65ac368ed24f",
   "metadata": {},
   "outputs": [],
   "source": []
  }
 ],
 "metadata": {
  "kernelspec": {
   "display_name": "Python 3 (ipykernel)",
   "language": "python",
   "name": "python3"
  },
  "language_info": {
   "codemirror_mode": {
    "name": "ipython",
    "version": 3
   },
   "file_extension": ".py",
   "mimetype": "text/x-python",
   "name": "python",
   "nbconvert_exporter": "python",
   "pygments_lexer": "ipython3",
   "version": "3.12.7"
  }
 },
 "nbformat": 4,
 "nbformat_minor": 5
}
