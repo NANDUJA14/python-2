{
 "cells": [
  {
   "cell_type": "code",
   "execution_count": 8,
   "id": "35106668-74e3-4777-9046-cd2604253c3c",
   "metadata": {},
   "outputs": [
    {
     "name": "stdout",
     "output_type": "stream",
     "text": [
      "Start time: 09:45:00\n",
      "Duration: 01:35:00\n",
      "End time: 11:20:00\n",
      "Is end after start? True\n",
      "Start + 300 seconds: 09:50:00\n"
     ]
    }
   ],
   "source": [
    "class Time:\n",
    "    def __init__(self, hour=0, minute=0, second=0):\n",
    "        self.seconds = hour * 3600 + minute * 60 + second\n",
    "\n",
    "    def __str__(self):\n",
    "        return time_to_str(self)\n",
    "\n",
    "    def time_to_int(self):\n",
    "        return self.seconds\n",
    "\n",
    "    def is_after(self, other):\n",
    "        return self.seconds > other.seconds\n",
    "\n",
    "    def add_time(self, other):\n",
    "        return Time(0, 0, self.seconds + other.seconds)\n",
    "\n",
    "    def increment(self, seconds):\n",
    "        return Time(0, 0, self.seconds + seconds)\n",
    "\n",
    "def time_to_str(time):\n",
    "    seconds = time.seconds\n",
    "    hour = seconds // 3600\n",
    "    seconds %= 3600\n",
    "    minute = seconds // 60\n",
    "    second = seconds % 60\n",
    "    return f\"{hour:02d}:{minute:02d}:{second:02d}\"\n",
    "\n",
    "def int_to_time(seconds):\n",
    "    return Time(0, 0, seconds)\n",
    "\n",
    "def main():\n",
    "    start = Time(9, 45, 0)\n",
    "    print(\"Start time:\", start)\n",
    "\n",
    "    duration = Time(1, 35, 0)\n",
    "    print(\"Duration:\", duration)\n",
    "\n",
    "    end = start.add_time(duration)\n",
    "    print(\"End time:\", end)\n",
    "\n",
    "    print(\"Is end after start?\", end.is_after(start))\n",
    "\n",
    "    print(\"Start + 300 seconds:\", start.increment(300))\n",
    "\n",
    "if __name__ == \"__main__\":\n",
    "    main()"
   ]
  },
  {
   "cell_type": "code",
   "execution_count": null,
   "id": "d15a620e-07f7-4f65-90c3-c0a4061902a5",
   "metadata": {},
   "outputs": [],
   "source": []
  }
 ],
 "metadata": {
  "kernelspec": {
   "display_name": "Python 3 (ipykernel)",
   "language": "python",
   "name": "python3"
  },
  "language_info": {
   "codemirror_mode": {
    "name": "ipython",
    "version": 3
   },
   "file_extension": ".py",
   "mimetype": "text/x-python",
   "name": "python",
   "nbconvert_exporter": "python",
   "pygments_lexer": "ipython3",
   "version": "3.12.7"
  }
 },
 "nbformat": 4,
 "nbformat_minor": 5
}
