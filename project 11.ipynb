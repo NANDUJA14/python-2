{
 "cells": [
  {
   "cell_type": "code",
   "execution_count": 2,
   "id": "181dbfad-20b6-476d-a258-6de3d07a4725",
   "metadata": {},
   "outputs": [
    {
     "name": "stdout",
     "output_type": "stream",
     "text": [
      "Kanga: Kangaroo with pouch contents: [apple, pencil, Kangaroo with its own pouch]\n",
      "Roo: Kangaroo with pouch contents: []\n"
     ]
    }
   ],
   "source": [
    "class Kangaroo:\n",
    "    def __init__(self):\n",
    "        self.pouch_contents = []\n",
    "\n",
    "    def put_in_pouch(self, item):\n",
    "        self.pouch_contents.append(item)\n",
    "\n",
    "    def __str__(self):\n",
    "        contents = []\n",
    "        for item in self.pouch_contents:\n",
    "            if isinstance(item, Kangaroo):\n",
    "                contents.append(\"Kangaroo with its own pouch\")\n",
    "            else:\n",
    "                contents.append(str(item))\n",
    "        return f\"Kangaroo with pouch contents: [{', '.join(contents)}]\"\n",
    "\n",
    "# Create kangaroo objects\n",
    "kanga = Kangaroo()\n",
    "roo = Kangaroo()\n",
    "\n",
    "# Fill kanga's pouch\n",
    "kanga.put_in_pouch(\"apple\")\n",
    "kanga.put_in_pouch(\"pencil\")\n",
    "kanga.put_in_pouch(roo)\n",
    "\n",
    "# Print contents\n",
    "print(\"Kanga:\", kanga)\n",
    "print(\"Roo:\", roo)"
   ]
  },
  {
   "cell_type": "code",
   "execution_count": null,
   "id": "b52ce07a-d382-4bc4-94a0-7d56a547d56d",
   "metadata": {},
   "outputs": [],
   "source": []
  }
 ],
 "metadata": {
  "kernelspec": {
   "display_name": "Python 3 (ipykernel)",
   "language": "python",
   "name": "python3"
  },
  "language_info": {
   "codemirror_mode": {
    "name": "ipython",
    "version": 3
   },
   "file_extension": ".py",
   "mimetype": "text/x-python",
   "name": "python",
   "nbconvert_exporter": "python",
   "pygments_lexer": "ipython3",
   "version": "3.12.7"
  }
 },
 "nbformat": 4,
 "nbformat_minor": 5
}
